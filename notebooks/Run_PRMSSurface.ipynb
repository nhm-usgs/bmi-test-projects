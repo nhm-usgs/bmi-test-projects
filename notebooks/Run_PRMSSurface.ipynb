{
 "cells": [
  {
   "cell_type": "markdown",
   "metadata": {},
   "source": [
    "# PRMS6 Surface BMI demo\n",
    "\n",
    "This is a simple demonstration of the PRMS6 Surface-BMI. The Surface-BMI includes all PRMS6 components above the soil-zone.\n",
    "* The surface-BMI builds on PRMS6 by Parker Norton (USGS)\n",
    "    * https://github.com/nhm-usgs/prms/releases/tag/6.0.0_bmi-testing\n",
    "* The Fortran Suface-BMI by Rich McDonald and Steve Markstrom (USGS)\n",
    "    * https://github.com/nhm-usgs/bmi-prms6-surface\n",
    "* The CSDMS-BMI-PyMT package by Mark Piper and Eric Hutton (CSDMS, CU-Boulder)\n",
    "    * https://github.com/pymt-lab/pymt_prms_surface\n",
    "    \n",
    "* More info about PyMT\n",
    "    * https://csdms.github.io/pymt/\n",
    "    \n",
    "    \n",
    "## Demo of the Pipestem project"
   ]
  },
  {
   "cell_type": "code",
   "execution_count": null,
   "metadata": {},
   "outputs": [],
   "source": []
  },
  {
   "cell_type": "code",
   "execution_count": 1,
   "metadata": {},
   "outputs": [
    {
     "name": "stderr",
     "output_type": "stream",
     "text": [
      "\u001b[33;01m➡ models: PRMSSurface, PRMSSoil\u001b[39;49;00m\n"
     ]
    }
   ],
   "source": [
    "%matplotlib inline\n",
    "import numpy as np\n",
    "from pymt.models import PRMSSurface\n",
    "from pathlib import Path\n",
    "import prms6bmi\n",
    "import geopandas as gpd\n",
    "import pandas as pd"
   ]
  },
  {
   "cell_type": "markdown",
   "metadata": {},
   "source": [
    "___\n",
    "The next few slides read the the pipestem shapefile for use in plotting results below.\n",
    "* The shapefile is filtered to include only the HRUs simulated\n",
    "* The shapefile is reordered according to the ordering in the PRMS project\n",
    "___"
   ]
  },
  {
   "cell_type": "code",
   "execution_count": 2,
   "metadata": {
    "scrolled": true
   },
   "outputs": [
    {
     "data": {
      "text/html": [
       "<div>\n",
       "<style scoped>\n",
       "    .dataframe tbody tr th:only-of-type {\n",
       "        vertical-align: middle;\n",
       "    }\n",
       "\n",
       "    .dataframe tbody tr th {\n",
       "        vertical-align: top;\n",
       "    }\n",
       "\n",
       "    .dataframe thead th {\n",
       "        text-align: right;\n",
       "    }\n",
       "</style>\n",
       "<table border=\"1\" class=\"dataframe\">\n",
       "  <thead>\n",
       "    <tr style=\"text-align: right;\">\n",
       "      <th></th>\n",
       "      <th>LAYER</th>\n",
       "      <th>hru_id_loc</th>\n",
       "      <th>hru_id</th>\n",
       "      <th>region</th>\n",
       "      <th>geometry</th>\n",
       "    </tr>\n",
       "  </thead>\n",
       "  <tbody>\n",
       "    <tr>\n",
       "      <th>0</th>\n",
       "      <td>Unknown Area Type</td>\n",
       "      <td>2265</td>\n",
       "      <td>57848</td>\n",
       "      <td>r10u</td>\n",
       "      <td>POLYGON ((-209834.804 2666444.996, -209835.087...</td>\n",
       "    </tr>\n",
       "    <tr>\n",
       "      <th>1</th>\n",
       "      <td>Unknown Area Type</td>\n",
       "      <td>2267</td>\n",
       "      <td>57850</td>\n",
       "      <td>r10u</td>\n",
       "      <td>MULTIPOLYGON (((-207734.972 2661663.705, -2077...</td>\n",
       "    </tr>\n",
       "    <tr>\n",
       "      <th>2</th>\n",
       "      <td>Unknown Area Type</td>\n",
       "      <td>2270</td>\n",
       "      <td>57853</td>\n",
       "      <td>r10u</td>\n",
       "      <td>POLYGON ((-210435.192 2666555.949, -210435.282...</td>\n",
       "    </tr>\n",
       "    <tr>\n",
       "      <th>3</th>\n",
       "      <td>Unknown Area Type</td>\n",
       "      <td>2272</td>\n",
       "      <td>57855</td>\n",
       "      <td>r10u</td>\n",
       "      <td>POLYGON ((-210855.095 2670974.953, -210884.836...</td>\n",
       "    </tr>\n",
       "    <tr>\n",
       "      <th>4</th>\n",
       "      <td>Unknown Area Type</td>\n",
       "      <td>2273</td>\n",
       "      <td>57856</td>\n",
       "      <td>r10u</td>\n",
       "      <td>POLYGON ((-218474.797 2677545.102, -218445.082...</td>\n",
       "    </tr>\n",
       "  </tbody>\n",
       "</table>\n",
       "</div>"
      ],
      "text/plain": [
       "               LAYER  hru_id_loc  hru_id region  \\\n",
       "0  Unknown Area Type        2265   57848   r10u   \n",
       "1  Unknown Area Type        2267   57850   r10u   \n",
       "2  Unknown Area Type        2270   57853   r10u   \n",
       "3  Unknown Area Type        2272   57855   r10u   \n",
       "4  Unknown Area Type        2273   57856   r10u   \n",
       "\n",
       "                                            geometry  \n",
       "0  POLYGON ((-209834.804 2666444.996, -209835.087...  \n",
       "1  MULTIPOLYGON (((-207734.972 2661663.705, -2077...  \n",
       "2  POLYGON ((-210435.192 2666555.949, -210435.282...  \n",
       "3  POLYGON ((-210855.095 2670974.953, -210884.836...  \n",
       "4  POLYGON ((-218474.797 2677545.102, -218445.082...  "
      ]
     },
     "execution_count": 2,
     "metadata": {},
     "output_type": "execute_result"
    }
   ],
   "source": [
    "gdf = gpd.read_file('GIS/pipestem_hru_geographic.shp')\n",
    "gdf.head()\n"
   ]
  },
  {
   "cell_type": "markdown",
   "metadata": {},
   "source": [
    "### Create and Initialize the pipestem project and PRMSSurface model\n",
    "___"
   ]
  },
  {
   "cell_type": "code",
   "execution_count": 3,
   "metadata": {},
   "outputs": [
    {
     "name": "stdout",
     "output_type": "stream",
     "text": [
      "True\n",
      "True\n",
      "prms6-BMI\n"
     ]
    },
    {
     "data": {
      "text/plain": [
       "'prms6-BMI'"
      ]
     },
     "execution_count": 3,
     "metadata": {},
     "output_type": "execute_result"
    }
   ],
   "source": [
    "run_dir = '../prms/pipestem'\n",
    "config_file = 'control.default'\n",
    "print(Path(run_dir).exists())\n",
    "print((Path(run_dir) / config_file).exists())\n",
    "\n",
    "m = PRMSSurface()\n",
    "print(m.name)\n",
    "m.name"
   ]
  },
  {
   "cell_type": "code",
   "execution_count": null,
   "metadata": {},
   "outputs": [],
   "source": [
    "m.initialize(config_file, run_dir)\n",
    "m.var['nowtime'].data"
   ]
  },
  {
   "cell_type": "markdown",
   "metadata": {},
   "source": [
    "### Reorder shapefile according to order in PRMSSurface\n",
    "---"
   ]
  },
  {
   "cell_type": "code",
   "execution_count": null,
   "metadata": {},
   "outputs": [],
   "source": [
    "pd.set_option('mode.chained_assignment', None)\n",
    "gdf_ps = gdf[gdf['hru_id'].isin(m.var['nhm_id'].data)]\n",
    "print(type(m.var['nhm_id'].data))\n",
    "dindex = np.zeros(np.shape(gdf_ps.hru_id.values), dtype=np.int8)\n",
    "for index, val in np.ndenumerate(m.var['nhm_id'].data):\n",
    "    tind = np.int(np.where(gdf_ps['hru_id'].values == m.var['nhm_id'].data[index])[0])\n",
    "#     print(type(tind), tind)\n",
    "    dindex[tind] = np.array([index])\n",
    "print(dindex)\n",
    "# # gdf_ps['tindex'] = 0\n",
    "gdf_ps.loc[:,'tindex'] = dindex\n",
    "# # # gdf_ps.Index.sort_values()\n",
    "gdf_ps.sort_values(by=['tindex'], inplace=True)\n",
    "gdf_ps\n",
    "# # tmp = np.where(gdf_ps.hru_id.values == m.var['nhm_id'].data[0])\n",
    "# # print(tmp[0])"
   ]
  },
  {
   "cell_type": "markdown",
   "metadata": {},
   "source": [
    "### Plot the HRUs"
   ]
  },
  {
   "cell_type": "code",
   "execution_count": null,
   "metadata": {},
   "outputs": [],
   "source": [
    "gdf_ps.plot()"
   ]
  },
  {
   "cell_type": "markdown",
   "metadata": {},
   "source": [
    "### Read the climate cbh file (netCDF format) and map to geopandas for plotting\n",
    "* Grab the dates from the initial model time"
   ]
  },
  {
   "cell_type": "code",
   "execution_count": null,
   "metadata": {},
   "outputs": [],
   "source": [
    "import xarray as xr\n",
    "import datetime as dt\n",
    "import matplotlib.pyplot as plt\n",
    "from mpl_toolkits.axes_grid1 import make_axes_locatable\n",
    "clim_file = Path('../prms/pipestem/daymet.nc')\n",
    "clim = xr.open_dataset(clim_file)\n",
    "ptime = m.var['nowtime'].data\n",
    "timesel = dt.datetime(ptime[0], ptime[1], ptime[2])\n",
    "start_date = timesel\n",
    "gdf_ps['tmax'] = clim.tmax.sel(time=timesel)\n",
    "gdf_ps['tmin'] = clim.tmin.sel(time=timesel)\n",
    "gdf_ps['prcp'] = clim.prcp.sel(time=timesel)\n",
    "fig, ax = plt.subplots(ncols=3)\n",
    "divider0 = make_axes_locatable(ax[0])\n",
    "divider1 = make_axes_locatable(ax[1])\n",
    "divider2 = make_axes_locatable(ax[2])\n",
    "cax0 = divider0.append_axes(\"right\", size=\"5%\", pad=0.1)\n",
    "cax1 = divider1.append_axes(\"right\", size=\"5%\", pad=0.1)\n",
    "cax2 = divider2.append_axes(\"right\", size=\"5%\", pad=0.1)\n",
    "\n",
    "gdf_ps.plot(column='tmax', ax=ax[0], vmin=5, vmax=30, legend=True, label='tmax', cax=cax0)\n",
    "gdf_ps.plot(column='tmin', ax=ax[1], vmin=5, vmax=30, legend=True, label='tmin', cax=cax1)\n",
    "gdf_ps.plot(column='prcp', ax=ax[2], legend=True, label='prcp', cax=cax2)\n",
    "for i in range(3):\n",
    "    ax[i].set_xticklabels([])\n",
    "    ax[i].set_yticklabels([])\n",
    "    if i == 0:\n",
    "        ax[i].set_title('tmax')\n",
    "    elif i == 1:\n",
    "        ax[i].set_title('tmin')\n",
    "    elif i == 2:\n",
    "        ax[i].set_title('prcp')\n",
    "plt.tight_layout()"
   ]
  },
  {
   "cell_type": "markdown",
   "metadata": {},
   "source": [
    "### Get some basin model information\n",
    "---"
   ]
  },
  {
   "cell_type": "code",
   "execution_count": null,
   "metadata": {},
   "outputs": [],
   "source": [
    "# Get time information from the model.\n",
    "print('Start time:', m.start_time)\n",
    "print('End time:', m.end_time)\n",
    "print('Current time:', m.time)\n",
    "print('Nowtime: ', m.var['nowtime'].data)"
   ]
  },
  {
   "cell_type": "markdown",
   "metadata": {},
   "source": [
    "### Run the PRMSSurface model for 372 days just prior to a precipiation event\n",
    "---"
   ]
  },
  {
   "cell_type": "code",
   "execution_count": null,
   "metadata": {},
   "outputs": [],
   "source": [
    "m.update_until(372)\n",
    "print('Current time:', m.time)\n",
    "print('Nowtime: ', m.var['nowtime'].data)"
   ]
  },
  {
   "cell_type": "markdown",
   "metadata": {},
   "source": [
    "### Examine a variable through the BMI getter function\n",
    "___"
   ]
  },
  {
   "cell_type": "code",
   "execution_count": null,
   "metadata": {},
   "outputs": [],
   "source": [
    "# Get variable info.\n",
    "var_name = 'pkwater_ante'   # vector\n",
    "# var_name = 'nhru'      # scalar\n",
    "# var_name = 'dday_slope'  # rectilinear\n",
    "print('Variable {}'.format(var_name))\n",
    "print(' - variable type:', m.var_type(var_name))\n",
    "print(' - units:', m.var_units(var_name))\n",
    "print(' - itemsize:', m.var_itemsize(var_name))\n",
    "print(' - nbytes:', m.var_nbytes(var_name))\n",
    "print(' - location:', m.var_location(var_name))\n",
    "type(m.get_value('pkwater_ante'))"
   ]
  },
  {
   "cell_type": "markdown",
   "metadata": {},
   "source": [
    "### Run the model for an additional 7 days and examine the results time-step by time-step\n",
    "----"
   ]
  },
  {
   "cell_type": "code",
   "execution_count": null,
   "metadata": {
    "scrolled": true
   },
   "outputs": [],
   "source": [
    "\n",
    "def example_plot(j, timesel):\n",
    "    gdf_ps['tmax'] = clim.tmax.sel(time=timesel)\n",
    "    gdf_ps['tmin'] = clim.tmin.sel(time=timesel)\n",
    "    gdf_ps['prcp'] = clim.prcp.sel(time=timesel)\n",
    "\n",
    "    gdf_ps['newsnow'] = m.var['newsnow'].data\n",
    "    gdf_ps['snow_evap'] = m.var['snow_evap'].data\n",
    "    gdf_ps['net_ppt'] = m.var['net_ppt'].data\n",
    "\n",
    "    fig, ax = plt.subplots(ncols=6, figsize = (12,2))\n",
    "    divider0 = make_axes_locatable(ax[0])\n",
    "    divider1 = make_axes_locatable(ax[1])\n",
    "    divider2 = make_axes_locatable(ax[2])\n",
    "    divider3 = make_axes_locatable(ax[3])\n",
    "    divider4 = make_axes_locatable(ax[4])\n",
    "    divider5 = make_axes_locatable(ax[5])\n",
    "    cax0 = divider0.append_axes(\"right\", size=\"5%\", pad=0.1)\n",
    "    cax1 = divider1.append_axes(\"right\", size=\"5%\", pad=0.1)\n",
    "    cax2 = divider2.append_axes(\"right\", size=\"5%\", pad=0.1)\n",
    "    cax3 = divider3.append_axes(\"right\", size=\"5%\", pad=0.1)\n",
    "    cax4 = divider4.append_axes(\"right\", size=\"5%\", pad=0.1)\n",
    "    cax5 = divider5.append_axes(\"right\", size=\"5%\", pad=0.1)\n",
    "    \n",
    "    gdf_ps.plot(column='tmax', vmin=-20,  vmax= 35, ax=ax[0], legend=True, cax=cax0)\n",
    "    gdf_ps.plot(column='tmin', vmin=-20,  vmax= 35, ax=ax[1], legend=True, cax=cax1)\n",
    "    gdf_ps.plot(column='prcp', vmin=0,  vmax= .1, ax=ax[2], legend=True, cax=cax2)\n",
    "    gdf_ps.plot(column='newsnow', vmin=0,  vmax= 2, ax=ax[3], legend=True, cax=cax3)\n",
    "    gdf_ps.plot(column='snow_evap', vmin=.0005,  vmax= .01, ax=ax[4], legend=True, cax=cax4)\n",
    "    gdf_ps.plot(column='net_ppt', vmin=0,  vmax= .1, ax=ax[5], legend=True, cax=cax5)\n",
    "    for i in range(6):\n",
    "        ax[i].set_xticklabels([])\n",
    "        ax[i].set_yticklabels([])\n",
    "        if j == 0:\n",
    "            if i == 0:\n",
    "                ax[i].set_title('tmax')\n",
    "            elif i == 1:\n",
    "                ax[i].set_title('tmin')\n",
    "            elif i == 2:\n",
    "                ax[i].set_title('prcp')\n",
    "            elif i == 3:\n",
    "                ax[i].set_title('newsnow')\n",
    "            elif i == 4:\n",
    "                ax[i].set_title('snow_evap')\n",
    "            elif i == 5:\n",
    "                ax[i].set_title('net_ppt')\n",
    "    plt.tight_layout()\n",
    "    \n",
    "for i in range(7):\n",
    "    m.update()\n",
    "    ptime = m.var['nowtime'].data\n",
    "    timesel = dt.datetime(ptime[0], ptime[1], ptime[2])\n",
    "    print(ptime, timesel)\n",
    "    example_plot(i, timesel)"
   ]
  },
  {
   "cell_type": "markdown",
   "metadata": {},
   "source": [
    "# finish running the model from the current time-step to the end\n",
    "___"
   ]
  },
  {
   "cell_type": "code",
   "execution_count": null,
   "metadata": {},
   "outputs": [],
   "source": [
    "for i in range(int(m.time),int(m.end_time)):\n",
    "    m.update()\n",
    "    \n",
    "print('Update: current time:', m.time)"
   ]
  },
  {
   "cell_type": "code",
   "execution_count": null,
   "metadata": {},
   "outputs": [],
   "source": [
    "ptime = m.var['nowtime'].data\n",
    "end_date = dt.datetime(ptime[0], ptime[1], ptime[2])\n",
    "print(end_date)"
   ]
  },
  {
   "cell_type": "markdown",
   "metadata": {},
   "source": [
    "### read the netcdf outputfile and plot some results for an hru\n",
    "___"
   ]
  },
  {
   "cell_type": "code",
   "execution_count": null,
   "metadata": {},
   "outputs": [],
   "source": [
    "import xarray as xr\n",
    "prms_file = Path('../prms/pipestem/output/summary_daily.nc')\n",
    "pfile = xr.open_dataset(prms_file)\n",
    "pfile"
   ]
  },
  {
   "cell_type": "code",
   "execution_count": null,
   "metadata": {},
   "outputs": [],
   "source": [
    "t_hru = 13\n",
    "\n",
    "fig, ax = plt.subplots(ncols=2)\n",
    "prms6bmi.bmi_prms6_value_plot(pfile, t_hru, 'snow_evap', 'HRU_13', start_date, end_date, ax[0])\n",
    "prms6bmi.bmi_prms6_value_plot(pfile, t_hru, 'snowmelt', 'HRU_13', start_date, end_date, ax[1])\n",
    "\n",
    "plt.show()"
   ]
  },
  {
   "cell_type": "markdown",
   "metadata": {},
   "source": [
    "### Examples of some other capabilities of the PRMSSurface BMI through PyMT"
   ]
  },
  {
   "cell_type": "code",
   "execution_count": null,
   "metadata": {},
   "outputs": [],
   "source": [
    "# List the model's exchange items.\n",
    "print('Number of input vars:', len(m.input_var_names))\n",
    "for var in m.input_var_names:\n",
    "    print(' - {}'.format(var))\n",
    "print('Number of output vars:', len(m.output_var_names))\n",
    "for var in m.output_var_names:\n",
    "    print(' - {}'.format(var))"
   ]
  },
  {
   "cell_type": "code",
   "execution_count": null,
   "metadata": {},
   "outputs": [],
   "source": [
    "# Get variable info.\n",
    "var_name = 'hru_ppt'   # vector\n",
    "# var_name = 'nhru'      # scalar\n",
    "# var_name = 'dday_slope'  # rectilinear\n",
    "print('Variable {}'.format(var_name))\n",
    "print(' - variable type:', m.var_type(var_name))\n",
    "print(' - units:', m.var_units(var_name))\n",
    "print(' - itemsize:', m.var_itemsize(var_name))\n",
    "print(' - nbytes:', m.var_nbytes(var_name))\n",
    "print(' - location:', m.var_location(var_name))"
   ]
  },
  {
   "cell_type": "code",
   "execution_count": null,
   "metadata": {},
   "outputs": [],
   "source": [
    "# Get grid info for variable.\n",
    "grid_id = m.var_grid(var_name)\n",
    "print(' - grid id:', grid_id)\n",
    "print(' - grid type:', m.grid_type(grid_id))\n",
    "print(' - rank:', m.grid_ndim(grid_id))\n",
    "\n",
    "if m.grid_type(grid_id) == 'rectilinear':\n",
    "    print(' - size:', m.grid_node_count(grid_id))\n",
    "    print(' - shape:', m.grid_shape(grid_id))\n",
    "\n",
    "print(' - x:', m.grid_x(grid_id))\n",
    "print(' - y:', m.grid_y(grid_id))\n",
    "print(' - z:', m.grid_z(grid_id))\n",
    "\n",
    "if m.grid_type(grid_id) != 'rectilinear':\n",
    "    print(' - node count:', m.grid_node_count(grid_id))\n",
    "    print(' - face count:', m.grid_face_count(grid_id))\n",
    "    print(' - edge count:', m.grid_edge_count(grid_id))"
   ]
  }
 ],
 "metadata": {
  "kernelspec": {
   "display_name": "Python 3",
   "language": "python",
   "name": "python3"
  },
  "language_info": {
   "codemirror_mode": {
    "name": "ipython",
    "version": 3
   },
   "file_extension": ".py",
   "mimetype": "text/x-python",
   "name": "python",
   "nbconvert_exporter": "python",
   "pygments_lexer": "ipython3",
   "version": "3.7.6"
  }
 },
 "nbformat": 4,
 "nbformat_minor": 4
}
