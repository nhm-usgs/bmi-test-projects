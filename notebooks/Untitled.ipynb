{
 "cells": [
  {
   "cell_type": "code",
   "execution_count": 1,
   "metadata": {},
   "outputs": [
    {
     "name": "stderr",
     "output_type": "stream",
     "text": [
      "\u001b[33;01m➡ models: PRMSSurface\u001b[39;49;00m\n"
     ]
    },
    {
     "ename": "ModuleNotFoundError",
     "evalue": "No module named 'geopandas'",
     "output_type": "error",
     "traceback": [
      "\u001b[0;31m-----------------------------------------------------------\u001b[0m",
      "\u001b[0;31mModuleNotFoundError\u001b[0m       Traceback (most recent call last)",
      "\u001b[0;32m<ipython-input-1-6318771ee3c3>\u001b[0m in \u001b[0;36m<module>\u001b[0;34m\u001b[0m\n\u001b[1;32m      2\u001b[0m \u001b[0;32mfrom\u001b[0m \u001b[0mpymt\u001b[0m\u001b[0;34m.\u001b[0m\u001b[0mmodels\u001b[0m \u001b[0;32mimport\u001b[0m \u001b[0mPRMSSurface\u001b[0m\u001b[0;34m\u001b[0m\u001b[0;34m\u001b[0m\u001b[0m\n\u001b[1;32m      3\u001b[0m \u001b[0;32mfrom\u001b[0m \u001b[0mpathlib\u001b[0m \u001b[0;32mimport\u001b[0m \u001b[0mPath\u001b[0m\u001b[0;34m\u001b[0m\u001b[0;34m\u001b[0m\u001b[0m\n\u001b[0;32m----> 4\u001b[0;31m \u001b[0;32mimport\u001b[0m \u001b[0mgeopandas\u001b[0m \u001b[0;32mas\u001b[0m \u001b[0mgpd\u001b[0m\u001b[0;34m\u001b[0m\u001b[0;34m\u001b[0m\u001b[0m\n\u001b[0m",
      "\u001b[0;31mModuleNotFoundError\u001b[0m: No module named 'geopandas'"
     ]
    }
   ],
   "source": [
    "import numpy as np\n",
    "from pymt.models import PRMSSurface\n",
    "from pathlib import Path\n"
   ]
  },
  {
   "cell_type": "code",
   "execution_count": null,
   "metadata": {},
   "outputs": [],
   "source": [
    "run_dir = '../prms/pipestem'\n",
    "config_file = 'control-py.simple1'\n",
    "print(Path(run_dir).exists())\n",
    "print((Path(run_dir) / config_file).exists())\n",
    "\n",
    "m = PRMSSurface()\n",
    "print(m.name)\n",
    "m.name"
   ]
  },
  {
   "cell_type": "code",
   "execution_count": null,
   "metadata": {},
   "outputs": [],
   "source": [
    "m.initialize(config_file, run_dir)"
   ]
  },
  {
   "cell_type": "code",
   "execution_count": null,
   "metadata": {},
   "outputs": [],
   "source": [
    "\n",
    "m.update()"
   ]
  },
  {
   "cell_type": "code",
   "execution_count": null,
   "metadata": {},
   "outputs": [],
   "source": [
    "# List the model's exchange items.\n",
    "print('Number of input vars:', len(m.input_var_names))\n",
    "for var in m.input_var_names:\n",
    "    print(' - {}'.format(var))\n",
    "print('Number of output vars:', len(m.output_var_names))\n",
    "for var in m.output_var_names:\n",
    "    print(' - {}'.format(var))"
   ]
  },
  {
   "cell_type": "code",
   "execution_count": null,
   "metadata": {},
   "outputs": [],
   "source": [
    "# Get variable info.\n",
    "var_name = 'hru_ppt'   # vector\n",
    "# var_name = 'nhru'      # scalar\n",
    "# var_name = 'dday_slope'  # rectilinear\n",
    "print('Variable {}'.format(var_name))\n",
    "print(' - variable type:', m.var_type(var_name))\n",
    "print(' - units:', m.var_units(var_name))\n",
    "print(' - itemsize:', m.var_itemsize(var_name))\n",
    "print(' - nbytes:', m.var_nbytes(var_name))\n",
    "print(' - location:', m.var_location(var_name))"
   ]
  },
  {
   "cell_type": "code",
   "execution_count": null,
   "metadata": {},
   "outputs": [],
   "source": [
    "# Get grid info for variable.\n",
    "grid_id = m.var_grid(var_name)\n",
    "print(' - grid id:', grid_id)\n",
    "print(' - grid type:', m.grid_type(grid_id))\n",
    "print(' - rank:', m.grid_ndim(grid_id))\n",
    "\n",
    "if m.grid_type(grid_id) == 'rectilinear':\n",
    "    print(' - size:', m.grid_node_count(grid_id))\n",
    "    print(' - shape:', m.grid_shape(grid_id))\n",
    "\n",
    "print(' - x:', m.grid_x(grid_id))\n",
    "print(' - y:', m.grid_y(grid_id))\n",
    "print(' - z:', m.grid_z(grid_id))\n",
    "\n",
    "if m.grid_type(grid_id) != 'rectilinear':\n",
    "    print(' - node count:', m.grid_node_count(grid_id))\n",
    "    print(' - face count:', m.grid_face_count(grid_id))\n",
    "    print(' - edge count:', m.grid_edge_count(grid_id))"
   ]
  },
  {
   "cell_type": "code",
   "execution_count": null,
   "metadata": {},
   "outputs": [],
   "source": [
    "# Get time information from the model.\n",
    "print('Start time:', m.start_time)\n",
    "print('End time:', m.end_time)\n",
    "print('Current time:', m.time)\n",
    "print('Time step:', m.time_step)\n",
    "print('Time units:', m.time_units)\n",
    "\n",
    "# Advance the model by one time step."
   ]
  },
  {
   "cell_type": "code",
   "execution_count": null,
   "metadata": {},
   "outputs": [],
   "source": [
    "m"
   ]
  },
  {
   "cell_type": "code",
   "execution_count": null,
   "metadata": {},
   "outputs": [],
   "source": [
    "# import sys\n",
    "# old_stdout = sys.stdout\n",
    "# sys.stdout = open('stdout.txt', 'w')\n",
    "# Advance the model by one time step.\n",
    "m.update()\n",
    "print('Update: current time:', m.time)"
   ]
  },
  {
   "cell_type": "code",
   "execution_count": null,
   "metadata": {},
   "outputs": [],
   "source": []
  }
 ],
 "metadata": {
  "kernelspec": {
   "display_name": "Python 3",
   "language": "python",
   "name": "python3"
  },
  "language_info": {
   "codemirror_mode": {
    "name": "ipython",
    "version": 3
   },
   "file_extension": ".py",
   "mimetype": "text/x-python",
   "name": "python",
   "nbconvert_exporter": "python",
   "pygments_lexer": "ipython3",
   "version": "3.7.6"
  }
 },
 "nbformat": 4,
 "nbformat_minor": 4
}
