{
 "cells": [
  {
   "cell_type": "code",
   "execution_count": null,
   "metadata": {},
   "outputs": [],
   "source": [
    "from pymt.models import PRMSSurface, PRMSSoil\n",
    "import gridmet_etl\n",
    "\n",
    "msurf = PRMSSurface()\n",
    "msoil = PRMSSoil()\n",
    "\n",
    "msurf.initialize(config_surf, run_dir)\n",
    "msoil.initialize(config_soil, run_dir)\n",
    "gmdata = gridmet_etl(msurf.start_time, end_date=msurf.end_time, map=True, \n",
    "                     hru_id=msurf.get_value('nhm_id'), wght_file=wght)\n",
    "\n",
    "for i in range(int(msurf.start_time),int(msurf.end_time)):\n",
    "    msurf.set_value('hru_ppt', gmdata.prcp.[i,:])\n",
    "    msurf.set_value('tmax', gmdata.tmax.[i,:])\n",
    "    msurf.set_value('tmin', gmdata.tmin.[i,:])\n",
    "    msurf.update()\n",
    "    msoil.set_value('potet', msurf.get_value('potet'))\n",
    "    msoil.update()\n",
    "    \n",
    "msurf.finalize()\n",
    "msoil.finalize()"
   ]
  }
 ],
 "metadata": {
  "kernelspec": {
   "display_name": "Python 3",
   "language": "python",
   "name": "python3"
  },
  "language_info": {
   "codemirror_mode": {
    "name": "ipython",
    "version": 3
   },
   "file_extension": ".py",
   "mimetype": "text/x-python",
   "name": "python",
   "nbconvert_exporter": "python",
   "pygments_lexer": "ipython3",
   "version": "3.7.6"
  }
 },
 "nbformat": 4,
 "nbformat_minor": 4
}
